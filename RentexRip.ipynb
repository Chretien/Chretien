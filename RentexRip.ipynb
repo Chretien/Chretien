{
 "cells": [
  {
   "cell_type": "markdown",
   "id": "54030d63",
   "metadata": {},
   "source": [
    "# Web Scraping Project\n",
    "After reading the sites robots.txt and ensuring I wasn't breaking any rules, I decided to scrape Rentex's site to nab the names and descriptions of all of the gear they offer for rent."
   ]
  },
  {
   "cell_type": "code",
   "execution_count": 20,
   "id": "ce3310d1-d698-4510-a4a5-5a5cd51c48b5",
   "metadata": {},
   "outputs": [],
   "source": [
    "import pandas as pd\n",
    "import requests\n",
    "from bs4 import BeautifulSoup\n",
    "pd.set_option(\"display.max_rows\", None)"
   ]
  },
  {
   "cell_type": "code",
   "execution_count": 2,
   "id": "5a1c3f2a-6613-4cd2-9da4-e760bc3ee426",
   "metadata": {},
   "outputs": [],
   "source": [
    "request = requests.get(\"https://www.rentex.com\")\n",
    "soup = BeautifulSoup(request.content, 'lxml')\n",
    "links = soup.find_all('a')\n",
    "hrefs = [link.get('href') for link in links if 'https://' in str(link.get('href'))]"
   ]
  },
  {
   "cell_type": "code",
   "execution_count": 3,
   "id": "4812dfb4-a5cb-4590-aaa0-f50372492c43",
   "metadata": {},
   "outputs": [
    {
     "data": {
      "text/plain": [
       "'https://www.rentex.com/video-camera-rentals/hd-4k-video-cameras-lenses/'"
      ]
     },
     "execution_count": 3,
     "metadata": {},
     "output_type": "execute_result"
    }
   ],
   "source": [
    "hrefs[3]"
   ]
  },
  {
   "cell_type": "code",
   "execution_count": 22,
   "id": "c6accc32-9617-49bf-b0bf-c02949342419",
   "metadata": {},
   "outputs": [],
   "source": [
    "titleList = []\n",
    "sub = []\n",
    "for h in hrefs:\n",
    "#     print(h)\n",
    "    request = requests.get(h)\n",
    "    soup = BeautifulSoup(request.content, 'lxml')\n",
    "    prodDiv = soup.find_all('div', class_ = 'product-container')\n",
    "    \n",
    "    for div in prodDiv:\n",
    "        title = div.find('div', class_ = 'product-title')\n",
    "        subtitle = div.find('div', class_ = 'product-subtitle')\n",
    "        titleText = title.find('h3', class_ = 'woocommerce-loop-product__title')\n",
    "        titleText = titleText.get_text()\n",
    "        titleList.append(titleText)\n",
    "        subtitleText = subtitle.get_text(strip=True)\n",
    "        sub.append(subtitleText)"
   ]
  },
  {
   "cell_type": "code",
   "execution_count": 23,
   "id": "4437f5fd-14ec-4ae6-a641-0cb35d6cc3a5",
   "metadata": {},
   "outputs": [
    {
     "name": "stdout",
     "output_type": "stream",
     "text": [
      "2195\n"
     ]
    }
   ],
   "source": [
    "print(len(titleList))"
   ]
  },
  {
   "cell_type": "code",
   "execution_count": 24,
   "id": "7621a3ef-aeb0-4cb8-81f6-d5886d015735",
   "metadata": {},
   "outputs": [
    {
     "name": "stdout",
     "output_type": "stream",
     "text": [
      "2195\n"
     ]
    }
   ],
   "source": [
    "print(len(sub))"
   ]
  },
  {
   "cell_type": "code",
   "execution_count": 25,
   "id": "2c088b48-3807-4fe7-965c-b201b1cf0f46",
   "metadata": {},
   "outputs": [],
   "source": [
    "df = pd.DataFrame()\n",
    "df['productTitle'] = titleList\n",
    "df['productSubtitle'] = sub"
   ]
  },
  {
   "cell_type": "code",
   "execution_count": 26,
   "id": "e16f56f5-e8f3-4316-accd-0441b3734f59",
   "metadata": {},
   "outputs": [
    {
     "name": "stdout",
     "output_type": "stream",
     "text": [
      "<class 'pandas.core.frame.DataFrame'>\n",
      "RangeIndex: 2195 entries, 0 to 2194\n",
      "Data columns (total 2 columns):\n",
      " #   Column           Non-Null Count  Dtype \n",
      "---  ------           --------------  ----- \n",
      " 0   productTitle     2195 non-null   object\n",
      " 1   productSubtitle  2195 non-null   object\n",
      "dtypes: object(2)\n",
      "memory usage: 34.4+ KB\n"
     ]
    }
   ],
   "source": [
    "df.info()"
   ]
  },
  {
   "cell_type": "code",
   "execution_count": 32,
   "id": "626988d5-ad27-42d9-94d8-c72cdb0e1fb5",
   "metadata": {},
   "outputs": [
    {
     "data": {
      "text/html": [
       "<div>\n",
       "<style scoped>\n",
       "    .dataframe tbody tr th:only-of-type {\n",
       "        vertical-align: middle;\n",
       "    }\n",
       "\n",
       "    .dataframe tbody tr th {\n",
       "        vertical-align: top;\n",
       "    }\n",
       "\n",
       "    .dataframe thead th {\n",
       "        text-align: right;\n",
       "    }\n",
       "</style>\n",
       "<table border=\"1\" class=\"dataframe\">\n",
       "  <thead>\n",
       "    <tr style=\"text-align: right;\">\n",
       "      <th></th>\n",
       "      <th>productTitle</th>\n",
       "      <th>productSubtitle</th>\n",
       "    </tr>\n",
       "  </thead>\n",
       "  <tbody>\n",
       "    <tr>\n",
       "      <th>0</th>\n",
       "      <td>Panasonic AK-HC3800</td>\n",
       "      <td>HD Camera Kit - Full Studio Configuration</td>\n",
       "    </tr>\n",
       "    <tr>\n",
       "      <th>1</th>\n",
       "      <td>Canon HD Lens HJ40x10</td>\n",
       "      <td>2/3\" EFP Telephoto Lens</td>\n",
       "    </tr>\n",
       "    <tr>\n",
       "      <th>2</th>\n",
       "      <td>Fujinon HD Lens XA55x9.5BESM</td>\n",
       "      <td>9.5-525mm f/1.7-2.9 2/3\" EFP Box Lens with Len...</td>\n",
       "    </tr>\n",
       "    <tr>\n",
       "      <th>3</th>\n",
       "      <td>Fujinon 13×4.5BERM-M</td>\n",
       "      <td>HD Wide Angle Zoom Lens</td>\n",
       "    </tr>\n",
       "    <tr>\n",
       "      <th>4</th>\n",
       "      <td>Canon XJ86x9.3B IE-II</td>\n",
       "      <td>HD Lens</td>\n",
       "    </tr>\n",
       "    <tr>\n",
       "      <th>5</th>\n",
       "      <td>Fujinon HD Lens HA42x9.7</td>\n",
       "      <td>BERD-U48 2/3\" 42x ENG HDTV Lens with Built-In ...</td>\n",
       "    </tr>\n",
       "    <tr>\n",
       "      <th>6</th>\n",
       "      <td>Panasonic AK-UC4000GSJ</td>\n",
       "      <td>4K Studio Camera Kit</td>\n",
       "    </tr>\n",
       "    <tr>\n",
       "      <th>7</th>\n",
       "      <td>Panasonic AK-HC3800</td>\n",
       "      <td>HD Camera Kit - Full Studio Configuration</td>\n",
       "    </tr>\n",
       "    <tr>\n",
       "      <th>8</th>\n",
       "      <td>Sony HSC-300RF</td>\n",
       "      <td>HD Camera Kit</td>\n",
       "    </tr>\n",
       "    <tr>\n",
       "      <th>9</th>\n",
       "      <td>Fujinon XA77X9.5BESM</td>\n",
       "      <td>Field Lens</td>\n",
       "    </tr>\n",
       "    <tr>\n",
       "      <th>10</th>\n",
       "      <td>Fujinon UA24X7.8BERD</td>\n",
       "      <td>4K UHD Camera Lens</td>\n",
       "    </tr>\n",
       "    <tr>\n",
       "      <th>11</th>\n",
       "      <td>Fujinon UA46X9.5BERD</td>\n",
       "      <td>Ultra-High Zoom 4K Lens for Studio Cameras</td>\n",
       "    </tr>\n",
       "    <tr>\n",
       "      <th>12</th>\n",
       "      <td>Canon XJ95x8.6B</td>\n",
       "      <td>Super-Telephoto Long Zoom HD Lens</td>\n",
       "    </tr>\n",
       "    <tr>\n",
       "      <th>13</th>\n",
       "      <td>Fujinon HD Lens XA17x7.6 BERM M58B</td>\n",
       "      <td>2/3\" Lens</td>\n",
       "    </tr>\n",
       "    <tr>\n",
       "      <th>14</th>\n",
       "      <td>Fujinon 13×4.5BERM-M</td>\n",
       "      <td>HD Wide Angle Zoom Lens</td>\n",
       "    </tr>\n",
       "    <tr>\n",
       "      <th>15</th>\n",
       "      <td>Canon HD Lens HJ40x10</td>\n",
       "      <td>2/3\" EFP Telephoto Lens</td>\n",
       "    </tr>\n",
       "    <tr>\n",
       "      <th>16</th>\n",
       "      <td>Fujinon HD Lens HA42x9.7</td>\n",
       "      <td>BERD-U48 2/3\" 42x ENG HDTV Lens with Built-In ...</td>\n",
       "    </tr>\n",
       "    <tr>\n",
       "      <th>17</th>\n",
       "      <td>Fujinon HD Lens XA55x9.5BESM</td>\n",
       "      <td>9.5-525mm f/1.7-2.9 2/3\" EFP Box Lens with Len...</td>\n",
       "    </tr>\n",
       "    <tr>\n",
       "      <th>18</th>\n",
       "      <td>Canon XJ60x9BIE</td>\n",
       "      <td>Digi Super Lens</td>\n",
       "    </tr>\n",
       "    <tr>\n",
       "      <th>19</th>\n",
       "      <td>Fujinon HD Lens XA66x9.3</td>\n",
       "      <td>2/3\" HDTV Lens w/ MS-21D Manual Focus / Servo ...</td>\n",
       "    </tr>\n",
       "    <tr>\n",
       "      <th>20</th>\n",
       "      <td>Canon XJ86x9.3B IE-II</td>\n",
       "      <td>HD Lens</td>\n",
       "    </tr>\n",
       "    <tr>\n",
       "      <th>21</th>\n",
       "      <td>Panasonic AW-RP60GJS</td>\n",
       "      <td>Compact Remote Camera Controller for PTZ Cameras</td>\n",
       "    </tr>\n",
       "    <tr>\n",
       "      <th>22</th>\n",
       "      <td>Panasonic AW-UE100K</td>\n",
       "      <td>4K and NDI Network Connected PTZ Camera</td>\n",
       "    </tr>\n",
       "    <tr>\n",
       "      <th>23</th>\n",
       "      <td>Panasonic AW-UE150K</td>\n",
       "      <td>Professional 4K PTZ Camera</td>\n",
       "    </tr>\n",
       "    <tr>\n",
       "      <th>24</th>\n",
       "      <td>Panasonic AW-UE70</td>\n",
       "      <td>4K Professional PTZ Camera</td>\n",
       "    </tr>\n",
       "  </tbody>\n",
       "</table>\n",
       "</div>"
      ],
      "text/plain": [
       "                          productTitle  \\\n",
       "0                  Panasonic AK-HC3800   \n",
       "1                Canon HD Lens HJ40x10   \n",
       "2         Fujinon HD Lens XA55x9.5BESM   \n",
       "3                 Fujinon 13×4.5BERM-M   \n",
       "4                Canon XJ86x9.3B IE-II   \n",
       "5             Fujinon HD Lens HA42x9.7   \n",
       "6               Panasonic AK-UC4000GSJ   \n",
       "7                  Panasonic AK-HC3800   \n",
       "8                       Sony HSC-300RF   \n",
       "9                 Fujinon XA77X9.5BESM   \n",
       "10                Fujinon UA24X7.8BERD   \n",
       "11                Fujinon UA46X9.5BERD   \n",
       "12                     Canon XJ95x8.6B   \n",
       "13  Fujinon HD Lens XA17x7.6 BERM M58B   \n",
       "14                Fujinon 13×4.5BERM-M   \n",
       "15               Canon HD Lens HJ40x10   \n",
       "16            Fujinon HD Lens HA42x9.7   \n",
       "17        Fujinon HD Lens XA55x9.5BESM   \n",
       "18                     Canon XJ60x9BIE   \n",
       "19            Fujinon HD Lens XA66x9.3   \n",
       "20               Canon XJ86x9.3B IE-II   \n",
       "21                Panasonic AW-RP60GJS   \n",
       "22                 Panasonic AW-UE100K   \n",
       "23                 Panasonic AW-UE150K   \n",
       "24                   Panasonic AW-UE70   \n",
       "\n",
       "                                      productSubtitle  \n",
       "0           HD Camera Kit - Full Studio Configuration  \n",
       "1                             2/3\" EFP Telephoto Lens  \n",
       "2   9.5-525mm f/1.7-2.9 2/3\" EFP Box Lens with Len...  \n",
       "3                             HD Wide Angle Zoom Lens  \n",
       "4                                             HD Lens  \n",
       "5   BERD-U48 2/3\" 42x ENG HDTV Lens with Built-In ...  \n",
       "6                                4K Studio Camera Kit  \n",
       "7           HD Camera Kit - Full Studio Configuration  \n",
       "8                                       HD Camera Kit  \n",
       "9                                          Field Lens  \n",
       "10                                 4K UHD Camera Lens  \n",
       "11         Ultra-High Zoom 4K Lens for Studio Cameras  \n",
       "12                  Super-Telephoto Long Zoom HD Lens  \n",
       "13                                          2/3\" Lens  \n",
       "14                            HD Wide Angle Zoom Lens  \n",
       "15                            2/3\" EFP Telephoto Lens  \n",
       "16  BERD-U48 2/3\" 42x ENG HDTV Lens with Built-In ...  \n",
       "17  9.5-525mm f/1.7-2.9 2/3\" EFP Box Lens with Len...  \n",
       "18                                    Digi Super Lens  \n",
       "19  2/3\" HDTV Lens w/ MS-21D Manual Focus / Servo ...  \n",
       "20                                            HD Lens  \n",
       "21   Compact Remote Camera Controller for PTZ Cameras  \n",
       "22            4K and NDI Network Connected PTZ Camera  \n",
       "23                         Professional 4K PTZ Camera  \n",
       "24                         4K Professional PTZ Camera  "
      ]
     },
     "execution_count": 32,
     "metadata": {},
     "output_type": "execute_result"
    }
   ],
   "source": [
    "df.head(25)"
   ]
  },
  {
   "cell_type": "code",
   "execution_count": 31,
   "id": "3162fee6-eb69-4ef7-9198-60d737a8974b",
   "metadata": {},
   "outputs": [],
   "source": [
    "df.to_excel('2022-01-28_rentex_haul.xlsx')"
   ]
  },
  {
   "cell_type": "code",
   "execution_count": null,
   "id": "51b7373c-c8aa-4020-b8fd-5caef7fe38ed",
   "metadata": {},
   "outputs": [],
   "source": []
  }
 ],
 "metadata": {
  "kernelspec": {
   "display_name": "Python 3 (ipykernel)",
   "language": "python",
   "name": "python3"
  },
  "language_info": {
   "codemirror_mode": {
    "name": "ipython",
    "version": 3
   },
   "file_extension": ".py",
   "mimetype": "text/x-python",
   "name": "python",
   "nbconvert_exporter": "python",
   "pygments_lexer": "ipython3",
   "version": "3.10.2"
  }
 },
 "nbformat": 4,
 "nbformat_minor": 5
}
